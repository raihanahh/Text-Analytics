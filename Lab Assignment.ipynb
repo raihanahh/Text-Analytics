{
 "cells": [
  {
   "cell_type": "code",
   "execution_count": 20,
   "id": "a7879a34",
   "metadata": {},
   "outputs": [],
   "source": [
    "# Import packages\n",
    "import requests\n",
    "import pandas as pd\n",
    "from bs4 import BeautifulSoup\n",
    "from datetime import datetime"
   ]
  },
  {
   "cell_type": "code",
   "execution_count": 21,
   "id": "0f55ede2",
   "metadata": {},
   "outputs": [],
   "source": [
    "# Header to set the requests as a browser requests\n",
    "headers = {\n",
    "    'authority': 'www.amazon.com',\n",
    "    'accept': 'text/html,application/xhtml+xml,application/xml;q=0.9,image/avif,image/webp,image/apng,*/*;q=0.8,application/signed-exchange;v=b3;q=0.9',\n",
    "    'accept-language': 'en-US,en;q=0.9,bn;q=0.8',\n",
    "    'sec-ch-ua': '\" Not A;Brand\";v=\"99\", \"Chromium\";v=\"102\", \"Google Chrome\";v=\"102\"',\n",
    "    'user-agent': 'Mozilla/5.0 (Windows NT 10.0; Win64; x64) AppleWebKit/537.36 (KHTML, like Gecko) Chrome/102.0.0.0 Safari/537.36'\n",
    "}"
   ]
  },
  {
   "cell_type": "code",
   "execution_count": 22,
   "id": "95a102d3",
   "metadata": {},
   "outputs": [],
   "source": [
    "# URL of The amazon Review page\n",
    "reviews_url = 'https://www.amazon.com/Keyaluo-Solar-Eclipse-Glasses-Approved/dp/B0CTFYT5ZV/ref=pd_rhf_cr_s_pd_crcbs_d_sccl_1_3/144-1773143-5126510?pd_rd_w=grCvx&content-id=amzn1.sym.31346ea4-6dbc-4ac4-b4f3-cbf5f8cab4b9&pf_rd_p=31346ea4-6dbc-4ac4-b4f3-cbf5f8cab4b9&pf_rd_r=GN304VTZSF0SSQTGRJS2&pd_rd_wg=fVkfa&pd_rd_r=b81d8ce2-e7c1-4858-836e-db1c26466f5f&pd_rd_i=B0CTFYT5ZV&th=1'"
   ]
  },
  {
   "cell_type": "code",
   "execution_count": 23,
   "id": "f6d052c3",
   "metadata": {},
   "outputs": [],
   "source": [
    "# Define No of pages\n",
    "len_page = 5"
   ]
  },
  {
   "cell_type": "code",
   "execution_count": 24,
   "id": "7296d4d5",
   "metadata": {},
   "outputs": [],
   "source": [
    "# Extra Data as Html object from amazon Review page\n",
    "def reviewsHtml(url, len_page):\n",
    "    \n",
    "    # Empty List define to store all pages html data\n",
    "    soups = []\n",
    "    \n",
    "    # Loop for gather all 3000 reviews from 300 pages via range\n",
    "    for page_no in range(1, len_page + 1):\n",
    "        \n",
    "        # parameter set as page no to the requests body\n",
    "        params = {\n",
    "            'ie': 'UTF8',\n",
    "            'reviewerType': 'all_reviews',\n",
    "        }\n",
    "      \n",
    "        # Request make for each page\n",
    "        response = requests.get(url, headers=headers)\n",
    "        \n",
    "        # Save Html object by using BeautifulSoup4 and lxml parser\n",
    "        soup = BeautifulSoup(response.text, 'lxml')\n",
    "        \n",
    "        # Add single Html page data in master soups list\n",
    "        soups.append(soup)\n",
    "        \n",
    "    return soups"
   ]
  },
  {
   "cell_type": "code",
   "execution_count": 25,
   "id": "105acc2b",
   "metadata": {},
   "outputs": [],
   "source": [
    "# Grab Reviews name, description, date from HTML\n",
    "def getReviews(html_data):\n",
    "\n",
    "    # Create Empty list to Hold all data\n",
    "    data_dicts = []\n",
    "    \n",
    "    # Select all Reviews BOX html using css selector\n",
    "    boxes = html_data.select('div[data-hook=\"review\"]')\n",
    "    \n",
    "    # Iterate all Reviews BOX \n",
    "    for box in boxes:\n",
    "        \n",
    "        # Select Name using css selector and cleaning text using strip()\n",
    "        # If Value is empty define value with 'N/A' for all.\n",
    "        try:\n",
    "            name = box.select_one('[class=\"a-profile-name\"]').text.strip()\n",
    "        except Exception as e:\n",
    "            name = 'N/A'\n",
    "            \n",
    "        try:\n",
    "            # Convert date str to dd/mm/yyy format\n",
    "            datetime_str = box.select_one('[data-hook=\"review-date\"]').text.strip().split(' on ')[-1]\n",
    "            date = datetime.strptime(datetime_str, '%B %d, %Y').strftime(\"%d/%m/%Y\")\n",
    "        except Exception as e:\n",
    "            date = 'N/A'\n",
    "\n",
    "        try:\n",
    "            content = box.select_one('[data-hook=\"review-body\"]').text.strip()\n",
    "        except Exception as e:\n",
    "            content = 'N/A'\n",
    "\n",
    "        # create Dictionary with al review data \n",
    "        data_dict = {\n",
    "            'Name' : name,\n",
    "            'Date' : date,\n",
    "            'Content' : content\n",
    "        }\n",
    "\n",
    "        # Add Dictionary in master empty List\n",
    "        data_dicts.append(data_dict)\n",
    "    \n",
    "    return data_dicts"
   ]
  },
  {
   "cell_type": "code",
   "execution_count": 26,
   "id": "4d8a496c",
   "metadata": {},
   "outputs": [],
   "source": [
    "# Grab all HTML\n",
    "html_datas = reviewsHtml(reviews_url, len_page)"
   ]
  },
  {
   "cell_type": "code",
   "execution_count": 27,
   "id": "e29946bc",
   "metadata": {},
   "outputs": [],
   "source": [
    "# Empty List to Hold all reviews data\n",
    "reviews = []"
   ]
  },
  {
   "cell_type": "code",
   "execution_count": 28,
   "id": "8439e1b9",
   "metadata": {},
   "outputs": [],
   "source": [
    "# Iterate all Html page \n",
    "for html_data in html_datas:\n",
    "    \n",
    "    # Grab review data\n",
    "    review = getReviews(html_data)\n",
    "    \n",
    "    # add review data in reviews empty list\n",
    "    reviews += review"
   ]
  },
  {
   "cell_type": "code",
   "execution_count": 29,
   "id": "07b815ef",
   "metadata": {},
   "outputs": [],
   "source": [
    "# Create a dataframe with reviews Data\n",
    "df_reviews = pd.DataFrame(reviews)"
   ]
  },
  {
   "cell_type": "code",
   "execution_count": 30,
   "id": "da1e8286",
   "metadata": {},
   "outputs": [
    {
     "data": {
      "text/html": [
       "<div>\n",
       "<style scoped>\n",
       "    .dataframe tbody tr th:only-of-type {\n",
       "        vertical-align: middle;\n",
       "    }\n",
       "\n",
       "    .dataframe tbody tr th {\n",
       "        vertical-align: top;\n",
       "    }\n",
       "\n",
       "    .dataframe thead th {\n",
       "        text-align: right;\n",
       "    }\n",
       "</style>\n",
       "<table border=\"1\" class=\"dataframe\">\n",
       "  <thead>\n",
       "    <tr style=\"text-align: right;\">\n",
       "      <th></th>\n",
       "      <th>Name</th>\n",
       "      <th>Date</th>\n",
       "      <th>Content</th>\n",
       "    </tr>\n",
       "  </thead>\n",
       "  <tbody>\n",
       "    <tr>\n",
       "      <th>0</th>\n",
       "      <td>Tom Demaree</td>\n",
       "      <td>24/03/2024</td>\n",
       "      <td>User instructions and Warning are straightforw...</td>\n",
       "    </tr>\n",
       "    <tr>\n",
       "      <th>1</th>\n",
       "      <td>B. Kirkpatrick</td>\n",
       "      <td>20/03/2024</td>\n",
       "      <td>Nice quality, proper density for safe solar vi...</td>\n",
       "    </tr>\n",
       "    <tr>\n",
       "      <th>2</th>\n",
       "      <td>Red Napier</td>\n",
       "      <td>27/03/2024</td>\n",
       "      <td>Perfect for eclipse I look at the sun and can ...</td>\n",
       "    </tr>\n",
       "    <tr>\n",
       "      <th>3</th>\n",
       "      <td>GJ</td>\n",
       "      <td>18/03/2024</td>\n",
       "      <td>These eclipse glasses are ultra cool.  Looking...</td>\n",
       "    </tr>\n",
       "    <tr>\n",
       "      <th>4</th>\n",
       "      <td>David Killeen</td>\n",
       "      <td>21/03/2024</td>\n",
       "      <td>Well made but expensive\\nRead more</td>\n",
       "    </tr>\n",
       "    <tr>\n",
       "      <th>5</th>\n",
       "      <td>TC</td>\n",
       "      <td>21/03/2024</td>\n",
       "      <td>Good and dark, built very well. They should be...</td>\n",
       "    </tr>\n",
       "    <tr>\n",
       "      <th>6</th>\n",
       "      <td>Barbara</td>\n",
       "      <td>18/03/2024</td>\n",
       "      <td>Great product , AAS approved\\nRead more</td>\n",
       "    </tr>\n",
       "    <tr>\n",
       "      <th>7</th>\n",
       "      <td>paul j.</td>\n",
       "      <td>26/03/2024</td>\n",
       "      <td>received quickly and they look like a high qua...</td>\n",
       "    </tr>\n",
       "  </tbody>\n",
       "</table>\n",
       "</div>"
      ],
      "text/plain": [
       "             Name        Date  \\\n",
       "0     Tom Demaree  24/03/2024   \n",
       "1  B. Kirkpatrick  20/03/2024   \n",
       "2      Red Napier  27/03/2024   \n",
       "3              GJ  18/03/2024   \n",
       "4   David Killeen  21/03/2024   \n",
       "5              TC  21/03/2024   \n",
       "6         Barbara  18/03/2024   \n",
       "7         paul j.  26/03/2024   \n",
       "\n",
       "                                             Content  \n",
       "0  User instructions and Warning are straightforw...  \n",
       "1  Nice quality, proper density for safe solar vi...  \n",
       "2  Perfect for eclipse I look at the sun and can ...  \n",
       "3  These eclipse glasses are ultra cool.  Looking...  \n",
       "4                 Well made but expensive\\nRead more  \n",
       "5  Good and dark, built very well. They should be...  \n",
       "6            Great product , AAS approved\\nRead more  \n",
       "7  received quickly and they look like a high qua...  "
      ]
     },
     "execution_count": 30,
     "metadata": {},
     "output_type": "execute_result"
    }
   ],
   "source": [
    "df_reviews"
   ]
  },
  {
   "cell_type": "code",
   "execution_count": 32,
   "id": "05553b26",
   "metadata": {},
   "outputs": [],
   "source": [
    "# Save data\n",
    "df_reviews.to_csv('reviews.csv', index=False)"
   ]
  },
  {
   "cell_type": "code",
   "execution_count": null,
   "id": "cac4cc2f",
   "metadata": {},
   "outputs": [],
   "source": []
  }
 ],
 "metadata": {
  "kernelspec": {
   "display_name": "Python 3 (ipykernel)",
   "language": "python",
   "name": "python3"
  },
  "language_info": {
   "codemirror_mode": {
    "name": "ipython",
    "version": 3
   },
   "file_extension": ".py",
   "mimetype": "text/x-python",
   "name": "python",
   "nbconvert_exporter": "python",
   "pygments_lexer": "ipython3",
   "version": "3.11.5"
  }
 },
 "nbformat": 4,
 "nbformat_minor": 5
}
