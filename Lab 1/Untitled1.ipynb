{
 "cells": [
  {
   "cell_type": "code",
   "execution_count": 1,
   "id": "59ef4824",
   "metadata": {},
   "outputs": [
    {
     "ename": "IndentationError",
     "evalue": "expected an indented block after 'for' statement on line 15 (3424667308.py, line 17)",
     "output_type": "error",
     "traceback": [
      "\u001b[1;36m  Cell \u001b[1;32mIn[1], line 17\u001b[1;36m\u001b[0m\n\u001b[1;33m    comments.append(row['comments'])\u001b[0m\n\u001b[1;37m    ^\u001b[0m\n\u001b[1;31mIndentationError\u001b[0m\u001b[1;31m:\u001b[0m expected an indented block after 'for' statement on line 15\n"
     ]
    }
   ],
   "source": [
    "import csv\n",
    "# Define the CSV file name\n",
    "csv_file = 'sample_data.csv'\n",
    "# Define the output text file name\n",
    "output_file = 'comments.txt'\n",
    "# Open the CSV file for reading\n",
    "with open(csv_file, 'r', newline='') as csvfile:\n",
    " # Create a CSV reader object\n",
    " reader = csv.DictReader(csvfile)\n",
    " \n",
    " # Initialize a list to store the comments\n",
    " comments = []\n",
    " \n",
    " # Iterate over each row in the CSV file\n",
    " for row in reader:\n",
    " # Extract the 'comments' column value and add it to the list\n",
    " comments.append(row['comments'])\n"
   ]
  },
  {
   "cell_type": "code",
   "execution_count": 2,
   "id": "433897a7",
   "metadata": {},
   "outputs": [
    {
     "ename": "IndentationError",
     "evalue": "expected an indented block after 'for' statement on line 15 (1200338962.py, line 17)",
     "output_type": "error",
     "traceback": [
      "\u001b[1;36m  Cell \u001b[1;32mIn[2], line 17\u001b[1;36m\u001b[0m\n\u001b[1;33m    comments.append(row['comments'])\u001b[0m\n\u001b[1;37m    ^\u001b[0m\n\u001b[1;31mIndentationError\u001b[0m\u001b[1;31m:\u001b[0m expected an indented block after 'for' statement on line 15\n"
     ]
    }
   ],
   "source": [
    "import csv\n",
    "# Define the CSV file name\n",
    "csv_file = 'sample_data.csv'\n",
    "# Define the output text file name\n",
    "output_file = 'comments.txt'\n",
    "# Open the CSV file for reading\n",
    "with open(csv_file, 'r', newline='') as csvfile:\n",
    " # Create a CSV reader object\n",
    " reader = csv.DictReader(csvfile)\n",
    " \n",
    " # Initialize a list to store the comments\n",
    " comments = []\n",
    " \n",
    " # Iterate over each row in the CSV file\n",
    " for row in reader:\n",
    " # Extract the 'comments' column value and add it to the list\n",
    " comments.append(row['comments'])"
   ]
  },
  {
   "cell_type": "code",
   "execution_count": 3,
   "id": "1d3330f5",
   "metadata": {},
   "outputs": [],
   "source": [
    "import csv\n",
    "\n",
    "# Define the CSV file name\n",
    "csv_file = 'sample_data.csv'\n",
    "\n",
    "# Define the output text file name\n",
    "output_file = 'comments.txt'\n",
    "\n",
    "# Open the CSV file for reading\n",
    "with open(csv_file, 'r', newline='') as csvfile:\n",
    "    # Create a CSV reader object\n",
    "    reader = csv.DictReader(csvfile)\n",
    " \n",
    "    # Initialize a list to store the comments\n",
    "    comments = []\n",
    " \n",
    "    # Iterate over each row in the CSV file\n",
    "    for row in reader:\n",
    "         # Extract the 'comments' column value and add it to the list\n",
    "        comments.append(row['comments'])"
   ]
  },
  {
   "cell_type": "code",
   "execution_count": 4,
   "id": "bd975883",
   "metadata": {},
   "outputs": [
    {
     "name": "stdout",
     "output_type": "stream",
     "text": [
      "Comments extracted and saved to comments.txt\n"
     ]
    }
   ],
   "source": [
    "# Open the output text file for writing\n",
    "with open(output_file, 'w') as txtfile:\n",
    "     # Write each comment to the text file\n",
    "    for comment in comments:\n",
    "        txtfile.write(comment + '\\n')\n",
    "print(\"Comments extracted and saved to\", output_file)"
   ]
  },
  {
   "cell_type": "code",
   "execution_count": null,
   "id": "6bedded4",
   "metadata": {},
   "outputs": [],
   "source": []
  }
 ],
 "metadata": {
  "kernelspec": {
   "display_name": "Python 3 (ipykernel)",
   "language": "python",
   "name": "python3"
  },
  "language_info": {
   "codemirror_mode": {
    "name": "ipython",
    "version": 3
   },
   "file_extension": ".py",
   "mimetype": "text/x-python",
   "name": "python",
   "nbconvert_exporter": "python",
   "pygments_lexer": "ipython3",
   "version": "3.11.5"
  }
 },
 "nbformat": 4,
 "nbformat_minor": 5
}
