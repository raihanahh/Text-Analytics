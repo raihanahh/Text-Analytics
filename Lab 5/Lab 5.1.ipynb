{
 "cells": [
  {
   "cell_type": "code",
   "execution_count": 1,
   "id": "afdbd701",
   "metadata": {},
   "outputs": [],
   "source": [
    "from collections import Counter"
   ]
  },
  {
   "cell_type": "code",
   "execution_count": 2,
   "id": "c63043cf",
   "metadata": {},
   "outputs": [],
   "source": [
    "# Given list of sentences\n",
    "sentences = [\n",
    "    \"it was the best of times\",\n",
    "    \"it was the worst of times\",\n",
    "    \"it was the age of wisdom\",\n",
    "    \"it was the age of foolishness\"\n",
    "]"
   ]
  },
  {
   "cell_type": "code",
   "execution_count": 3,
   "id": "da1e3728",
   "metadata": {},
   "outputs": [],
   "source": [
    "# Step 1: List all unique words\n",
    "all_words = ' '.join(sentences).split()\n",
    "unique_words = list(set(all_words))"
   ]
  },
  {
   "cell_type": "code",
   "execution_count": 4,
   "id": "b3c361fa",
   "metadata": {},
   "outputs": [],
   "source": [
    "# Step 2: Create word frequency table\n",
    "word_freq = Counter(all_words)\n",
    "sorted_word_freq = dict(sorted(word_freq.items(), key=lambda item: item[1], reverse=True))"
   ]
  },
  {
   "cell_type": "code",
   "execution_count": 5,
   "id": "f312d1aa",
   "metadata": {},
   "outputs": [],
   "source": [
    "# Step 3: Create document vectors\n",
    "document_vectors = []\n",
    "for sentence in sentences:\n",
    "    sentence_words = sentence.split()\n",
    "    document_vector = [1 if word in sentence_words else 0 for word in sorted_word_freq.keys()]\n",
    "    document_vectors.append(document_vector)"
   ]
  },
  {
   "cell_type": "code",
   "execution_count": 7,
   "id": "d234d660",
   "metadata": {},
   "outputs": [
    {
     "name": "stdout",
     "output_type": "stream",
     "text": [
      "Step 1: List of Unique Words: ['foolishness', 'age', 'the', 'was', 'wisdom', 'it', 'worst', 'best', 'of', 'times']\n",
      "\n",
      "Step 2: Word Frequency Table:\n",
      "Word\tFrequency\n",
      "it\t4\n",
      "was\t4\n",
      "the\t4\n",
      "of\t4\n",
      "times\t2\n",
      "age\t2\n",
      "best\t1\n",
      "worst\t1\n",
      "wisdom\t1\n",
      "foolishness\t1\n"
     ]
    }
   ],
   "source": [
    "# Print the results\n",
    "print(\"Step 1: List of Unique Words:\", unique_words)\n",
    "print(\"\\nStep 2: Word Frequency Table:\")\n",
    "print(\"Word\\tFrequency\")\n",
    "for word, freq in sorted_word_freq.items():\n",
    "    print(f\"{word}\\t{freq}\")"
   ]
  },
  {
   "cell_type": "code",
   "execution_count": 8,
   "id": "acca17df",
   "metadata": {},
   "outputs": [
    {
     "name": "stdout",
     "output_type": "stream",
     "text": [
      "\n",
      "Step 3: Document Vectors:\n",
      "Sentence: it was the best of times\n",
      "Vector: [1, 1, 1, 1, 1, 0, 1, 0, 0, 0]\n",
      "\n",
      "Sentence: it was the worst of times\n",
      "Vector: [1, 1, 1, 1, 1, 0, 0, 1, 0, 0]\n",
      "\n",
      "Sentence: it was the age of wisdom\n",
      "Vector: [1, 1, 1, 1, 0, 1, 0, 0, 1, 0]\n",
      "\n",
      "Sentence: it was the age of foolishness\n",
      "Vector: [1, 1, 1, 1, 0, 1, 0, 0, 0, 1]\n",
      "\n"
     ]
    }
   ],
   "source": [
    "print(\"\\nStep 3: Document Vectors:\")\n",
    "for sentence, vector in zip(sentences, document_vectors):\n",
    "    print(f\"Sentence: {sentence}\\nVector: {vector}\\n\")"
   ]
  },
  {
   "cell_type": "code",
   "execution_count": null,
   "id": "293b75f2",
   "metadata": {},
   "outputs": [],
   "source": []
  }
 ],
 "metadata": {
  "kernelspec": {
   "display_name": "Python 3 (ipykernel)",
   "language": "python",
   "name": "python3"
  },
  "language_info": {
   "codemirror_mode": {
    "name": "ipython",
    "version": 3
   },
   "file_extension": ".py",
   "mimetype": "text/x-python",
   "name": "python",
   "nbconvert_exporter": "python",
   "pygments_lexer": "ipython3",
   "version": "3.11.5"
  }
 },
 "nbformat": 4,
 "nbformat_minor": 5
}
